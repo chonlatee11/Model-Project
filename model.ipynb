{
 "cells": [
  {
   "cell_type": "code",
   "execution_count": 1,
   "metadata": {},
   "outputs": [],
   "source": [
    "import tensorflow as tf\n",
    "import numpy as np\n",
    "import cv2\n",
    "from os import listdir\n",
    "from os.path import isfile, join\n",
    "from tqdm import tqdm\n",
    "import tensorflow as tf\n",
    "from keras.models import Sequential\n",
    "from keras.layers import Dense, Dropout, Activation, Flatten , Conv2D, MaxPool2D\n",
    "import matplotlib.pyplot as plt\n",
    "from os import listdir\n",
    "from os.path import isfile, join\n",
    "from sklearn.metrics import confusion_matrix , accuracy_score, recall_score , f1_score, classification_report"
   ]
  },
  {
   "cell_type": "code",
   "execution_count": 2,
   "metadata": {},
   "outputs": [
    {
     "name": "stdout",
     "output_type": "stream",
     "text": [
      "['./ImagesDataset/Train/BlackDot', './ImagesDataset/Train/BlackWhip', './ImagesDataset/Train/LeafBurn', './ImagesDataset/Train/RedLine', './ImagesDataset/Train/RingLeaf', './ImagesDataset/Train/RustMold', './ImagesDataset/Train/StreakMosaic', './ImagesDataset/Train/YellowLeaf']\n",
      "['./ImagesDataset/Test/BlackDot', './ImagesDataset/Test/BlackWhip', './ImagesDataset/Test/LeafBurn', './ImagesDataset/Test/RedLine', './ImagesDataset/Test/RingLeaf', './ImagesDataset/Test/RustMold', './ImagesDataset/Test/StreakMosaic', './ImagesDataset/Test/YellowLeaf']\n"
     ]
    }
   ],
   "source": [
    "width = 128\n",
    "num_classes = 8\n",
    "trainpath = './ImagesDataset/Train/'\n",
    "testpath = './ImagesDataset/Test/'\n",
    "trainImg = [trainpath+f for f in listdir(trainpath)]\n",
    "testImg = [testpath+f for f in listdir(testpath)]\n",
    "# print(trainpath)\n",
    "# print(testpath)\n",
    "print(trainImg)\n",
    "print(testImg)"
   ]
  },
  {
   "cell_type": "code",
   "execution_count": 105,
   "metadata": {},
   "outputs": [
    {
     "name": "stderr",
     "output_type": "stream",
     "text": [
      "100%|██████████| 400/400 [01:05<00:00,  6.07it/s]\n",
      "100%|██████████| 400/400 [01:09<00:00,  5.74it/s]\n",
      "100%|██████████| 400/400 [01:20<00:00,  4.94it/s]\n",
      "100%|██████████| 400/400 [01:09<00:00,  5.79it/s]\n",
      "100%|██████████| 400/400 [01:16<00:00,  5.22it/s]\n",
      "100%|██████████| 400/400 [01:11<00:00,  5.60it/s]\n",
      "100%|██████████| 400/400 [01:18<00:00,  5.08it/s]\n",
      "100%|██████████| 400/400 [01:09<00:00,  5.73it/s]\n",
      "100%|██████████| 100/100 [00:17<00:00,  5.87it/s]\n",
      "100%|██████████| 100/100 [00:17<00:00,  5.84it/s]\n",
      "100%|██████████| 100/100 [00:19<00:00,  5.07it/s]\n",
      "100%|██████████| 100/100 [00:17<00:00,  5.61it/s]\n",
      "100%|██████████| 100/100 [00:20<00:00,  4.93it/s]\n",
      "100%|██████████| 100/100 [00:19<00:00,  5.21it/s]\n",
      "100%|██████████| 100/100 [00:19<00:00,  5.05it/s]\n",
      "100%|██████████| 100/100 [00:17<00:00,  5.85it/s]\n"
     ]
    }
   ],
   "source": [
    "def img2data(path):\n",
    "  rawImgs = []\n",
    "  labels = []\n",
    "\n",
    "  for imagePath in (path):\n",
    "      for item in tqdm(listdir(imagePath)):\n",
    "          file = join(imagePath, item)\n",
    "          if file[-1] =='g':\n",
    "            img = cv2.imread(file , cv2.COLOR_BGR2RGB)\n",
    "            img = cv2.resize(img ,(width,width))\n",
    "            rawImgs.append(img)\n",
    "            l = imagePath.split('/')[3] # การเข้าถึง ท่อนแบ่งด้วย /\n",
    "            if l == 'BlackDot': #ใบจุดดำ\n",
    "              labels.append([1,0,0,0,0,0,0,0])         \n",
    "            elif l == 'BlackWhip':#แส้ดำ\n",
    "              labels.append([0,1,0,0,0,0,0,0])\n",
    "            elif l == 'LeafBurn':#ใบไหม้\n",
    "              labels.append([0,0,1,0,0,0,0,0])\n",
    "            elif l == 'RedLine':#เส้นกลางใบแดง\n",
    "              labels.append([0,0,0,1,0,0,0,0])\n",
    "            elif l == 'RingLeaf':#ใบจุดวงแหวน\n",
    "              labels.append([0,0,0,0,1,0,0,0])\n",
    "            elif l == 'RustMold':#ราสนิม\n",
    "              labels.append([0,0,0,0,0,1,0,0])\n",
    "            elif l == 'StreakMosaic':#ใบด่าง\n",
    "              labels.append([0,0,0,0,0,0,1,0])\n",
    "            elif l == 'YellowLeaf':\n",
    "              labels.append([0,0,0,0,0,0,0,1])#ใบเหลือง\n",
    "  return rawImgs, labels \n",
    "\n",
    "x_train, y_train = img2data(trainImg)\n",
    "x_test, y_test = img2data(testImg)"
   ]
  },
  {
   "cell_type": "code",
   "execution_count": 107,
   "metadata": {},
   "outputs": [
    {
     "name": "stdout",
     "output_type": "stream",
     "text": [
      "(3200, 128, 128, 3)\n",
      "(3200, 8)\n",
      "(800, 128, 128, 3)\n",
      "(800, 8)\n"
     ]
    }
   ],
   "source": [
    "x_train = np.array(x_train)\n",
    "y_train = np.array(y_train)\n",
    "x_test = np.array(x_test)\n",
    "y_test = np.array(y_test)\n",
    "x_train = x_train.astype('float32')\n",
    "x_test = x_test.astype('float32')\n",
    "x_train /= 255.00\n",
    "x_test /= 255.00\n",
    "\n",
    "print(x_train.shape)\n",
    "print(y_train.shape)\n",
    "print(x_test.shape)\n",
    "print(y_test.shape)"
   ]
  },
  {
   "attachments": {},
   "cell_type": "markdown",
   "metadata": {},
   "source": [
    "MobilenetV2"
   ]
  },
  {
   "cell_type": "code",
   "execution_count": 108,
   "metadata": {},
   "outputs": [
    {
     "name": "stdout",
     "output_type": "stream",
     "text": [
      "Epoch 1/10\n",
      "100/100 [==============================] - 31s 260ms/step - loss: 1.0740 - accuracy: 0.9000 - val_loss: 0.1576 - val_accuracy: 0.9513\n",
      "Epoch 2/10\n",
      "100/100 [==============================] - 25s 254ms/step - loss: 0.0153 - accuracy: 0.9969 - val_loss: 0.2165 - val_accuracy: 0.9212\n",
      "Epoch 3/10\n",
      "100/100 [==============================] - 25s 248ms/step - loss: 0.0036 - accuracy: 0.9997 - val_loss: 0.2045 - val_accuracy: 0.9337\n",
      "Epoch 4/10\n",
      "100/100 [==============================] - 25s 254ms/step - loss: 0.0012 - accuracy: 1.0000 - val_loss: 0.1841 - val_accuracy: 0.9388\n",
      "Epoch 5/10\n",
      "100/100 [==============================] - 25s 254ms/step - loss: 7.1289e-04 - accuracy: 1.0000 - val_loss: 0.2016 - val_accuracy: 0.9312\n",
      "Epoch 6/10\n",
      "100/100 [==============================] - 25s 248ms/step - loss: 5.2324e-04 - accuracy: 1.0000 - val_loss: 0.1860 - val_accuracy: 0.9362\n",
      "Epoch 7/10\n",
      "100/100 [==============================] - 26s 263ms/step - loss: 4.0909e-04 - accuracy: 1.0000 - val_loss: 0.1842 - val_accuracy: 0.9337\n",
      "Epoch 8/10\n",
      "100/100 [==============================] - 26s 265ms/step - loss: 3.2705e-04 - accuracy: 1.0000 - val_loss: 0.1806 - val_accuracy: 0.9362\n",
      "Epoch 9/10\n",
      "100/100 [==============================] - 26s 262ms/step - loss: 2.7037e-04 - accuracy: 1.0000 - val_loss: 0.1794 - val_accuracy: 0.9388\n",
      "Epoch 10/10\n",
      "100/100 [==============================] - 26s 264ms/step - loss: 2.2784e-04 - accuracy: 1.0000 - val_loss: 0.1753 - val_accuracy: 0.9375\n",
      "25/25 [==============================] - 6s 185ms/step\n"
     ]
    },
    {
     "data": {
      "image/png": "[encoded data removed]",
      "text/plain": [
       "<Figure size 800x800 with 1 Axes>"
      ]
     },
     "metadata": {},
     "output_type": "display_data"
    },
    {
     "name": "stdout",
     "output_type": "stream",
     "text": [
      "              precision    recall  f1-score   support\n",
      "\n",
      "           0       1.00      1.00      1.00       100\n",
      "           1       1.00      1.00      1.00       100\n",
      "           2       0.93      1.00      0.96       100\n",
      "           3       0.75      0.88      0.81       100\n",
      "           4       0.89      1.00      0.94       100\n",
      "           5       1.00      0.76      0.86       100\n",
      "           6       1.00      1.00      1.00       100\n",
      "           7       1.00      0.86      0.92       100\n",
      "\n",
      "    accuracy                           0.94       800\n",
      "   macro avg       0.95      0.94      0.94       800\n",
      "weighted avg       0.95      0.94      0.94       800\n",
      "\n"
     ]
    }
   ],
   "source": [
    "# โหลด MobilenetV2 model มาจาก tensorflow hub\n",
    "mobilenetModel = tf.keras.applications.MobileNetV2(input_shape=(128,128,3),include_top=False, weights='imagenet')\n",
    "mobilenetModel.trainable = False\n",
    "\n",
    "# สร้าง model ใหม่ โดยเพิ่ม layer ต่อจาก model ที่โหลดมา\n",
    "mobilenetModelModify = Sequential()\n",
    "mobilenetModelModify.add(mobilenetModel)\n",
    "mobilenetModelModify.add(Conv2D(128, 3, activation='relu'))\n",
    "mobilenetModelModify.add(MaxPool2D(2))\n",
    "mobilenetModelModify.add(Dense(16))\n",
    "mobilenetModelModify.add(Flatten())\n",
    "mobilenetModelModify.add(Dense(8, activation='softmax'))\n",
    "\n",
    "# กำหนดตัวแปรในการ train model\n",
    "mobilenetModelModify.compile(optimizer=tf.keras.optimizers.Adam(learning_rate=0.001), loss='categorical_crossentropy', metrics= ['accuracy'])\n",
    "mobilenetModelModify.fit(x_train, y_train, batch_size = 32, epochs = 10, verbose = 1, validation_data=(x_test, y_test))\n",
    "\n",
    "# ทดสอบ model โดยการให้ทายผลจากข้อมูลอย่างละ 100 รูป\n",
    "mobilenetPred = mobilenetModelModify.predict(x_test)\n",
    "mobilenetPred = np.argmax(mobilenetPred ,axis=1)\n",
    "# print(len(y_pred))\n",
    "# print(y_pred)\n",
    "\n",
    "# ฟังก์ชันแปลง array 2d เป็น array 1d เพื่อแปลงค่า label ให้เป็นตัวเลข 0-7\n",
    "def convert_to_1d_array(array_2d):\n",
    "    array_1d = []\n",
    "    for i in range(len(array_2d)):\n",
    "        array_1d.append(array_2d[i])\n",
    "    return array_1d\n",
    "\n",
    "# แปลงค่า label ให้เป็นตัวเลข 0-7 และเก็บไว้ในตัวแปร resaultPredictLabels\n",
    "mobilenetPredictLabels = convert_to_1d_array(mobilenetPred)\n",
    "# print(resaultPredictLabels)\n",
    "\n",
    "# สร้าง array ขนาด 800 ตัวเลข 0 เพื่อเก็บค่า label จริง\n",
    "true_labels = np.zeros(800, dtype=int)\n",
    "for i in range(8):\n",
    "    true_labels[i*100:(i+1)*100] = i\n",
    "# Print the array\n",
    "# print(len(true_labels))\n",
    "\n",
    "\n",
    "# นำค่าที่ได้มาใช้ในการวัดประสิทธิภาพของ model โดยใช้ confusion matrix, accuracy, recall, f1 score, classification report และ plot confusion matrix\n",
    "# Create a confusion matrix\n",
    "confusion_matrix = confusion_matrix(true_labels, mobilenetPredictLabels)\n",
    "# Accuracy_score\n",
    "accuracy_score = accuracy_score(true_labels, mobilenetPredictLabels)\n",
    "# Recall_score\n",
    "recall_score = recall_score(true_labels, mobilenetPredictLabels, average='macro')\n",
    "# resaultPredict\n",
    "f1_score = f1_score(true_labels, mobilenetPredictLabels, average='macro')\n",
    "# Classification_report\n",
    "classification_report = classification_report(true_labels, mobilenetPredictLabels)\n",
    "\n",
    "# Print resault\n",
    "# print(confusion_matrix)\n",
    "fig, ax = plt.subplots(figsize=(8, 8))\n",
    "ax.matshow(confusion_matrix, cmap=plt.cm.Blues, alpha=0.3)\n",
    "for i in range(confusion_matrix.shape[0]):\n",
    "    for j in range(confusion_matrix.shape[1]):\n",
    "        ax.text(x=j, y=i, s=confusion_matrix[i, j], va='center', ha='center')\n",
    "\n",
    "plt.xlabel('Predicted label')\n",
    "plt.ylabel('True label')\n",
    "plt.tight_layout()\n",
    "plt.show()\n",
    "# print(accuracy_score)\n",
    "# print(recall_score)\n",
    "# print(f1_score)\n",
    "print(classification_report)\n",
    "\n"
   ]
  },
  {
   "attachments": {},
   "cell_type": "markdown",
   "metadata": {},
   "source": [
    "LeNet-5"
   ]
  },
  {
   "cell_type": "code",
   "execution_count": 111,
   "metadata": {},
   "outputs": [
    {
     "name": "stdout",
     "output_type": "stream",
     "text": [
      "Epoch 1/10\n",
      "100/100 [==============================] - 48s 461ms/step - loss: 0.7601 - accuracy: 0.7613 - val_loss: 0.6738 - val_accuracy: 0.8562\n",
      "Epoch 2/10\n",
      "100/100 [==============================] - 43s 435ms/step - loss: 0.0757 - accuracy: 0.9772 - val_loss: 0.6167 - val_accuracy: 0.8062\n",
      "Epoch 3/10\n",
      "100/100 [==============================] - 42s 417ms/step - loss: 0.0322 - accuracy: 0.9900 - val_loss: 0.9185 - val_accuracy: 0.8000\n",
      "Epoch 4/10\n",
      "100/100 [==============================] - 41s 414ms/step - loss: 0.1319 - accuracy: 0.9650 - val_loss: 0.7040 - val_accuracy: 0.8425\n",
      "Epoch 5/10\n",
      "100/100 [==============================] - 44s 443ms/step - loss: 0.0093 - accuracy: 0.9981 - val_loss: 0.7738 - val_accuracy: 0.8188\n",
      "Epoch 6/10\n",
      "100/100 [==============================] - 43s 429ms/step - loss: 0.0058 - accuracy: 0.9991 - val_loss: 1.1845 - val_accuracy: 0.8200\n",
      "Epoch 7/10\n",
      "100/100 [==============================] - 44s 441ms/step - loss: 4.0460e-04 - accuracy: 1.0000 - val_loss: 1.1072 - val_accuracy: 0.8600\n",
      "Epoch 8/10\n",
      "100/100 [==============================] - 44s 445ms/step - loss: 1.1104e-04 - accuracy: 1.0000 - val_loss: 1.1556 - val_accuracy: 0.8575\n",
      "Epoch 9/10\n",
      "100/100 [==============================] - 44s 441ms/step - loss: 7.9301e-05 - accuracy: 1.0000 - val_loss: 1.1489 - val_accuracy: 0.8575\n",
      "Epoch 10/10\n",
      "100/100 [==============================] - 44s 444ms/step - loss: 6.0152e-05 - accuracy: 1.0000 - val_loss: 1.1557 - val_accuracy: 0.8575\n"
     ]
    },
    {
     "data": {
      "text/plain": [
       "<keras.callbacks.History at 0x191819ae790>"
      ]
     },
     "execution_count": 111,
     "metadata": {},
     "output_type": "execute_result"
    }
   ],
   "source": [
    "LeNet_5_Model = Sequential()\n",
    "LeNet_5_Model.add(Conv2D(filters=32, kernel_size=(5,5), padding='same', activation='relu', input_shape=(128, 128, 3)))\n",
    "LeNet_5_Model.add(MaxPool2D(strides=2))\n",
    "LeNet_5_Model.add(Conv2D(filters=48, kernel_size=(5,5), padding='valid', activation='relu'))\n",
    "LeNet_5_Model.add(MaxPool2D(strides=2))\n",
    "LeNet_5_Model.add(Flatten())\n",
    "LeNet_5_Model.add(Dense(256, activation='relu'))\n",
    "LeNet_5_Model.add(Dense(84, activation='relu'))\n",
    "LeNet_5_Model.add(Dense(8, activation='softmax'))\n",
    "\n",
    "LeNet_5_Model.compile(optimizer='adam', loss='categorical_crossentropy', metrics=['accuracy'])\n",
    "LeNet_5_Model.fit(x_train, y_train, batch_size = 32, epochs = 10, verbose = 1, validation_data=(x_test, y_test))\n"
   ]
  },
  {
   "cell_type": "code",
   "execution_count": null,
   "metadata": {},
   "outputs": [],
   "source": [
    "testImgPath = './ImagesDataset/Test/RustMold/RustMoldTest (27).jpg'\n",
    "imgori = cv2.imread(testImgPath)\n",
    "imgori = cv2.cvtColor(imgori , cv2.COLOR_BGR2RGB)\n",
    "img = cv2.resize(imgori ,(128,128))\n",
    "rimg = np.array(img)\n",
    "rimg = rimg.astype('float32')\n",
    "rimg /= 255.00\n",
    "rimg = np.reshape(rimg ,(1,128,128,3))\n",
    "predict = mobilenetModelModify.predict(rimg)\n",
    "label = ['BlackDot','BlackWhip', 'LeafBurn', 'RedLine','RingLeaf' ,'RustMold','StreakMosaic', 'YellowLeaf']\n",
    "result = label[np.argmax(predict)]\n",
    "print(predict)\n",
    "print(result)\n"
   ]
  }
 ],
 "metadata": {
  "kernelspec": {
   "display_name": "base",
   "language": "python",
   "name": "python3"
  },
  "language_info": {
   "codemirror_mode": {
    "name": "ipython",
    "version": 3
   },
   "file_extension": ".py",
   "mimetype": "text/x-python",
   "name": "python",
   "nbconvert_exporter": "python",
   "pygments_lexer": "ipython3",
   "version": "3.9.13"
  },
  "orig_nbformat": 4,
  "vscode": {
   "interpreter": {
    "hash": "88279d2366fe020547cde40dd65aa0e3aa662a6ec1f3ca12d88834876c85e1a6"
   }
  }
 },
 "nbformat": 4,
 "nbformat_minor": 2
}
