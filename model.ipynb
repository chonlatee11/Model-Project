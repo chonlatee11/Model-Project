{
 "cells": [
  {
   "cell_type": "code",
   "execution_count": 1,
   "metadata": {},
   "outputs": [],
   "source": [
    "import tensorflow as tf\n",
    "import numpy as np\n",
    "import cv2\n",
    "from os import listdir\n",
    "from os.path import isfile, join\n",
    "from tqdm import tqdm\n",
    "import tensorflow as tf\n",
    "from keras.models import Sequential\n",
    "from keras.layers import Dense, Dropout, Activation, Flatten , Conv2D, MaxPool2D\n",
    "import matplotlib.pyplot as plt\n",
    "from os import listdir\n",
    "from os.path import isfile, join"
   ]
  },
  {
   "cell_type": "code",
   "execution_count": null,
   "metadata": {},
   "outputs": [],
   "source": [
    "width = 128\n",
    "num_classes = 8\n",
    "trainpath = './ImagesDataset/Train/'\n",
    "testpath = './ImagesDataset/Test/'\n",
    "trainImg = [trainpath+f for f in listdir(trainpath)]\n",
    "testImg = [testpath+f for f in listdir(testpath)]\n",
    "# print(trainpath)\n",
    "# print(testpath)\n",
    "print(trainImg)\n",
    "print(testImg)"
   ]
  },
  {
   "cell_type": "code",
   "execution_count": 68,
   "metadata": {},
   "outputs": [
    {
     "name": "stderr",
     "output_type": "stream",
     "text": [
      "100%|██████████| 400/400 [01:12<00:00,  5.50it/s]\n",
      "100%|██████████| 400/400 [01:10<00:00,  5.65it/s]\n",
      "100%|██████████| 400/400 [01:24<00:00,  4.74it/s]\n",
      "100%|██████████| 400/400 [01:10<00:00,  5.66it/s]\n",
      "100%|██████████| 400/400 [01:19<00:00,  5.05it/s]\n",
      "100%|██████████| 400/400 [01:13<00:00,  5.46it/s]\n",
      "100%|██████████| 400/400 [01:20<00:00,  4.97it/s]\n",
      "100%|██████████| 400/400 [01:09<00:00,  5.75it/s]\n",
      "100%|██████████| 100/100 [00:17<00:00,  5.82it/s]\n",
      "100%|██████████| 100/100 [00:17<00:00,  5.68it/s]\n",
      "100%|██████████| 100/100 [00:21<00:00,  4.74it/s]\n",
      "100%|██████████| 100/100 [00:19<00:00,  5.25it/s]\n",
      "100%|██████████| 100/100 [00:20<00:00,  4.83it/s]\n",
      "100%|██████████| 100/100 [00:18<00:00,  5.43it/s]\n",
      "100%|██████████| 100/100 [00:20<00:00,  4.87it/s]\n",
      "100%|██████████| 100/100 [00:17<00:00,  5.56it/s]\n"
     ]
    }
   ],
   "source": [
    "def img2data(path):\n",
    "  rawImgs = []\n",
    "  labels = []\n",
    "\n",
    "  for imagePath in (path):\n",
    "      for item in tqdm(listdir(imagePath)):\n",
    "          file = join(imagePath, item)\n",
    "          if file[-1] =='g':\n",
    "            img = cv2.imread(file , cv2.COLOR_BGR2RGB)\n",
    "            img = cv2.resize(img ,(width,width))\n",
    "            rawImgs.append(img)\n",
    "            l = imagePath.split('/')[3] # การเข้าถึง ท่อนแบ่งด้วย /\n",
    "            if l == 'BlackDot': #ใบจุดดำ\n",
    "              labels.append([1,0,0,0,0,0,0,0])         \n",
    "            elif l == 'BlackWhip':#แส้ดำ\n",
    "              labels.append([0,1,0,0,0,0,0,0])\n",
    "            elif l == 'LeafBurn':#ใบไหม้\n",
    "              labels.append([0,0,1,0,0,0,0,0])\n",
    "            elif l == 'RedLine':#เส้นกลางใบแดง\n",
    "              labels.append([0,0,0,1,0,0,0,0])\n",
    "            elif l == 'RingLeaf':#ใบจุดวงแหวน\n",
    "              labels.append([0,0,0,0,1,0,0,0])\n",
    "            elif l == 'RustMold':#ราสนิม\n",
    "              labels.append([0,0,0,0,0,1,0,0])\n",
    "            elif l == 'StreakMosaic':#ใบด่าง\n",
    "              labels.append([0,0,0,0,0,0,1,0])\n",
    "            elif l == 'YellowLeaf':\n",
    "              labels.append([0,0,0,0,0,0,0,1])#ใบเหลือง\n",
    "  return rawImgs, labels \n",
    "\n",
    "x_train, y_train = img2data(trainImg)\n",
    "x_test, y_test = img2data(testImg)"
   ]
  },
  {
   "cell_type": "code",
   "execution_count": null,
   "metadata": {},
   "outputs": [],
   "source": [
    "x_train = np.array(x_train)\n",
    "y_train = np.array(y_train)\n",
    "x_test = np.array(x_test)\n",
    "y_test = np.array(y_test)\n",
    "x_train = x_train.astype('float32')\n",
    "x_test = x_test.astype('float32')\n",
    "x_train /= 255.00\n",
    "x_test /= 255.00\n",
    "\n",
    "print(x_train.shape)\n",
    "print(y_train.shape)\n",
    "print(x_test.shape)\n",
    "print(y_test.shape)"
   ]
  },
  {
   "cell_type": "code",
   "execution_count": 145,
   "metadata": {},
   "outputs": [
    {
     "name": "stdout",
     "output_type": "stream",
     "text": [
      "Model: \"sequential_5\"\n",
      "_________________________________________________________________\n",
      " Layer (type)                Output Shape              Param #   \n",
      "=================================================================\n",
      " mobilenetv2_1.00_128 (Funct  (None, 4, 4, 1280)       2257984   \n",
      " ional)                                                          \n",
      "                                                                 \n",
      " conv2d_4 (Conv2D)           (None, 2, 2, 128)         1474688   \n",
      "                                                                 \n",
      " dense_8 (Dense)             (None, 2, 2, 16)          2064      \n",
      "                                                                 \n",
      " flatten_4 (Flatten)         (None, 64)                0         \n",
      "                                                                 \n",
      " dense_9 (Dense)             (None, 8)                 520       \n",
      "                                                                 \n",
      "=================================================================\n",
      "Total params: 3,735,256\n",
      "Trainable params: 1,477,272\n",
      "Non-trainable params: 2,257,984\n",
      "_________________________________________________________________\n"
     ]
    }
   ],
   "source": [
    "mobilenetModel = tf.keras.applications.MobileNetV2(input_shape=(128,128,3),\n",
    "                                                   include_top=False,\n",
    "                                                   weights='imagenet')\n",
    "mobilenetModel.trainable = False\n",
    "num_classes = 8\n",
    "\n",
    "mobilenetModelModify = Sequential()\n",
    "mobilenetModelModify.add(mobilenetModel)\n",
    "mobilenetModelModify.add(Conv2D(128, 3, activation='relu'))\n",
    "mobilenetModelModify.add(Dense(16))\n",
    "mobilenetModelModify.add(Flatten())\n",
    "mobilenetModelModify.add(Dense(num_classes, activation='softmax'))\n",
    "mobilenetModelModify.summary()\n"
   ]
  },
  {
   "cell_type": "code",
   "execution_count": 146,
   "metadata": {},
   "outputs": [],
   "source": [
    "mobilenetModelModify.compile(optimizer='adam', loss = 'binary_crossentropy', metrics=['accuracy'])"
   ]
  },
  {
   "cell_type": "code",
   "execution_count": 147,
   "metadata": {},
   "outputs": [
    {
     "name": "stdout",
     "output_type": "stream",
     "text": [
      "Epoch 1/10\n",
      "320/320 [==============================] - 32s 84ms/step - loss: 0.0582 - accuracy: 0.9563\n",
      "Epoch 2/10\n",
      "320/320 [==============================] - 27s 84ms/step - loss: 0.0030 - accuracy: 0.9991\n",
      "Epoch 3/10\n",
      "320/320 [==============================] - 27s 84ms/step - loss: 2.2401e-04 - accuracy: 1.0000\n",
      "Epoch 4/10\n",
      "320/320 [==============================] - 27s 84ms/step - loss: 4.9673e-05 - accuracy: 1.0000\n",
      "Epoch 5/10\n",
      "320/320 [==============================] - 26s 82ms/step - loss: 2.4419e-05 - accuracy: 1.0000\n",
      "Epoch 6/10\n",
      "320/320 [==============================] - 25s 80ms/step - loss: 1.7944e-05 - accuracy: 1.0000\n",
      "Epoch 7/10\n",
      "320/320 [==============================] - 26s 80ms/step - loss: 1.3943e-05 - accuracy: 1.0000\n",
      "Epoch 8/10\n",
      "320/320 [==============================] - 26s 81ms/step - loss: 1.1108e-05 - accuracy: 1.0000\n",
      "Epoch 9/10\n",
      "320/320 [==============================] - 25s 80ms/step - loss: 9.0391e-06 - accuracy: 1.0000\n",
      "Epoch 10/10\n",
      "320/320 [==============================] - 27s 83ms/step - loss: 7.4230e-06 - accuracy: 1.0000\n"
     ]
    },
    {
     "data": {
      "text/plain": [
       "<keras.callbacks.History at 0x10f14facd00>"
      ]
     },
     "execution_count": 147,
     "metadata": {},
     "output_type": "execute_result"
    }
   ],
   "source": [
    "mobilenetModelModify.fit(x_train, y_train, batch_size = 10, epochs = 10, verbose = 1)"
   ]
  },
  {
   "cell_type": "code",
   "execution_count": 148,
   "metadata": {},
   "outputs": [
    {
     "name": "stdout",
     "output_type": "stream",
     "text": [
      "25/25 [==============================] - 6s 182ms/step\n"
     ]
    }
   ],
   "source": [
    "y_pred = mobilenetModelModify.predict(x_test)\n",
    "y_pred = np.argmax(y_pred ,axis=1)\n",
    "print(len(y_pred))\n",
    "print(y_pred)"
   ]
  },
  {
   "cell_type": "code",
   "execution_count": 144,
   "metadata": {},
   "outputs": [
    {
     "name": "stdout",
     "output_type": "stream",
     "text": [
      "[0, 0, 0, 0, 0, 0, 0, 0, 0, 0, 0, 0, 0, 0, 0, 0, 0, 0, 0, 0, 0, 0, 0, 0, 0, 0, 0, 0, 0, 0, 0, 0, 0, 0, 0, 0, 0, 0, 0, 0, 0, 0, 0, 0, 0, 0, 0, 0, 0, 0, 0, 0, 0, 0, 0, 0, 0, 0, 0, 0, 0, 0, 0, 0, 0, 0, 0, 0, 0, 0, 0, 0, 0, 0, 0, 0, 0, 0, 0, 0, 0, 0, 0, 0, 0, 0, 0, 0, 0, 0, 0, 0, 0, 0, 0, 0, 0, 0, 0, 0, 1, 1, 1, 1, 1, 1, 1, 1, 1, 1, 1, 1, 1, 1, 1, 1, 1, 1, 1, 1, 1, 1, 1, 1, 1, 1, 1, 1, 1, 1, 1, 1, 1, 1, 1, 1, 1, 1, 1, 1, 1, 1, 1, 2, 2, 1, 2, 2, 1, 1, 1, 1, 1, 1, 1, 1, 1, 1, 1, 1, 1, 1, 1, 1, 1, 1, 1, 1, 1, 1, 1, 1, 1, 1, 1, 1, 1, 1, 1, 1, 1, 1, 1, 1, 1, 1, 1, 1, 1, 1, 1, 1, 1, 1, 1, 1, 1, 1, 1, 1, 2, 2, 2, 2, 2, 2, 2, 2, 2, 2, 2, 2, 2, 2, 2, 2, 2, 2, 2, 2, 2, 2, 2, 2, 2, 2, 2, 2, 2, 2, 2, 2, 2, 2, 2, 2, 2, 2, 2, 2, 2, 2, 2, 2, 2, 2, 2, 2, 2, 2, 2, 2, 2, 2, 2, 2, 2, 2, 2, 2, 2, 2, 2, 2, 2, 2, 2, 2, 2, 2, 2, 2, 2, 2, 2, 2, 2, 2, 2, 2, 2, 2, 2, 2, 2, 2, 2, 2, 2, 2, 2, 2, 2, 2, 2, 2, 2, 2, 2, 2, 3, 3, 3, 3, 3, 3, 3, 3, 3, 3, 3, 3, 3, 3, 3, 3, 3, 3, 4, 4, 3, 4, 3, 3, 3, 4, 3, 3, 3, 3, 3, 3, 3, 3, 3, 3, 3, 3, 3, 3, 3, 3, 3, 3, 3, 3, 3, 3, 3, 3, 3, 3, 3, 3, 3, 3, 3, 3, 3, 3, 3, 3, 3, 3, 3, 3, 3, 3, 3, 4, 3, 3, 3, 4, 3, 4, 4, 4, 3, 4, 4, 4, 4, 4, 4, 4, 4, 4, 4, 3, 4, 4, 3, 3, 3, 3, 3, 4, 3, 3, 4, 4, 4, 4, 4, 4, 4, 4, 4, 4, 4, 4, 4, 4, 4, 4, 4, 4, 4, 4, 4, 4, 4, 4, 4, 4, 4, 4, 4, 4, 4, 4, 4, 4, 4, 4, 4, 4, 4, 4, 4, 4, 4, 4, 4, 4, 4, 4, 4, 4, 4, 4, 4, 4, 4, 4, 4, 4, 4, 4, 4, 4, 4, 4, 4, 4, 4, 4, 4, 4, 4, 4, 4, 4, 4, 4, 4, 4, 4, 4, 4, 4, 4, 4, 4, 4, 4, 4, 4, 4, 4, 4, 4, 4, 4, 4, 4, 4, 4, 4, 5, 0, 5, 0, 0, 0, 5, 5, 5, 5, 5, 5, 5, 5, 5, 5, 5, 5, 5, 5, 5, 5, 5, 5, 5, 5, 3, 3, 3, 3, 3, 3, 5, 5, 5, 5, 5, 5, 5, 5, 5, 5, 5, 5, 5, 5, 5, 5, 5, 5, 5, 5, 5, 5, 5, 5, 5, 5, 5, 3, 3, 3, 3, 3, 3, 7, 7, 5, 7, 7, 7, 7, 3, 3, 3, 3, 3, 3, 0, 5, 5, 5, 5, 5, 5, 5, 5, 5, 5, 0, 5, 5, 5, 5, 5, 5, 5, 5, 5, 5, 6, 6, 6, 6, 6, 6, 6, 6, 6, 6, 6, 6, 6, 6, 6, 6, 6, 6, 6, 6, 6, 6, 6, 6, 6, 6, 6, 6, 6, 6, 6, 6, 6, 6, 6, 6, 6, 6, 6, 6, 6, 6, 6, 6, 6, 6, 6, 6, 6, 6, 6, 6, 6, 6, 6, 6, 6, 6, 6, 6, 6, 6, 6, 6, 6, 6, 6, 6, 6, 6, 6, 6, 6, 6, 6, 6, 6, 6, 6, 6, 6, 6, 6, 6, 6, 6, 6, 6, 6, 6, 6, 6, 6, 6, 6, 6, 6, 6, 6, 6, 7, 7, 7, 7, 7, 7, 7, 7, 7, 7, 7, 7, 7, 7, 7, 7, 7, 7, 7, 7, 7, 7, 7, 7, 7, 7, 7, 7, 7, 7, 7, 7, 7, 7, 7, 7, 7, 7, 7, 7, 7, 7, 7, 7, 7, 7, 7, 7, 7, 7, 7, 7, 7, 7, 7, 7, 7, 7, 7, 7, 7, 7, 7, 7, 7, 7, 7, 7, 7, 7, 7, 7, 7, 7, 7, 7, 7, 7, 7, 3, 3, 3, 3, 3, 3, 3, 3, 3, 3, 7, 3, 3, 3, 3, 7, 7, 7, 7, 7, 7]\n"
     ]
    }
   ],
   "source": [
    "def convert_to_1d_array(array_2d):\n",
    "    array_1d = []\n",
    "    for i in range(len(array_2d)):\n",
    "        array_1d.append(array_2d[i])\n",
    "    return array_1d\n",
    "\n",
    "resaultPredictLabels = convert_to_1d_array(y_pred)\n",
    "print(resaultPredictLabels)"
   ]
  },
  {
   "cell_type": "code",
   "execution_count": 161,
   "metadata": {},
   "outputs": [
    {
     "name": "stdout",
     "output_type": "stream",
     "text": [
      "800\n"
     ]
    }
   ],
   "source": [
    "# Create an empty array with 800 elements\n",
    "true_labels = np.zeros(800, dtype=int)\n",
    "\n",
    "# Assign the values 0-7 to the first 100 elements, 100 times\n",
    "for i in range(8):\n",
    "    true_labels[i*100:(i+1)*100] = i\n",
    "\n",
    "# Print the array\n",
    "print(len(true_labels))"
   ]
  },
  {
   "cell_type": "code",
   "execution_count": 1,
   "metadata": {},
   "outputs": [
    {
     "ename": "NameError",
     "evalue": "name 'array' is not defined",
     "output_type": "error",
     "traceback": [
      "\u001b[1;31m---------------------------------------------------------------------------\u001b[0m",
      "\u001b[1;31mNameError\u001b[0m                                 Traceback (most recent call last)",
      "\u001b[1;32m~\\AppData\\Local\\Temp\\ipykernel_12360\\619174465.py\u001b[0m in \u001b[0;36m<module>\u001b[1;34m\u001b[0m\n\u001b[0;32m      7\u001b[0m \u001b[1;33m\u001b[0m\u001b[0m\n\u001b[0;32m      8\u001b[0m \u001b[1;31m# Create a confusion matrix\u001b[0m\u001b[1;33m\u001b[0m\u001b[1;33m\u001b[0m\u001b[0m\n\u001b[1;32m----> 9\u001b[1;33m \u001b[0mconfusion_matrix\u001b[0m \u001b[1;33m=\u001b[0m \u001b[0mconfusion_matrix\u001b[0m\u001b[1;33m(\u001b[0m\u001b[0marray\u001b[0m\u001b[1;33m,\u001b[0m \u001b[0marray_1d\u001b[0m\u001b[1;33m)\u001b[0m\u001b[1;33m\u001b[0m\u001b[1;33m\u001b[0m\u001b[0m\n\u001b[0m\u001b[0;32m     10\u001b[0m \u001b[1;31m# Accuracy_score\u001b[0m\u001b[1;33m\u001b[0m\u001b[1;33m\u001b[0m\u001b[0m\n\u001b[0;32m     11\u001b[0m \u001b[0maccuracy_score\u001b[0m \u001b[1;33m=\u001b[0m \u001b[0maccuracy_score\u001b[0m\u001b[1;33m(\u001b[0m\u001b[0marray\u001b[0m\u001b[1;33m,\u001b[0m \u001b[0marray_1d\u001b[0m\u001b[1;33m)\u001b[0m\u001b[1;33m\u001b[0m\u001b[1;33m\u001b[0m\u001b[0m\n",
      "\u001b[1;31mNameError\u001b[0m: name 'array' is not defined"
     ]
    }
   ],
   "source": [
    "from sklearn.metrics import confusion_matrix , accuracy_score, recall_score , f1_score, classification_report\n",
    "\n",
    "\n",
    "\n",
    "# Create a confusion matrix\n",
    "confusion_matrix = confusion_matrix(true_labels, resaultPredictLabels)\n",
    "# Accuracy_score\n",
    "accuracy_score = accuracy_score(true_labels, resaultPredictLabels)\n",
    "# Recall_score\n",
    "recall_score = recall_score(true_labels, resaultPredictLabels, average='macro')\n",
    "# resaultPredict\n",
    "f1_score = f1_score(true_labels, resaultPredictLabels, average='macro')\n",
    "# Classification_report\n",
    "classification_report = classification_report(true_labels, resaultPredictLabels)\n",
    "\n",
    "# Print resault\n",
    "print(confusion_matrix)\n",
    "# print(accuracy_score)\n",
    "# print(recall_score)\n",
    "# print(f1_score)\n",
    "print(classification_report)"
   ]
  }
 ],
 "metadata": {
  "kernelspec": {
   "display_name": "base",
   "language": "python",
   "name": "python3"
  },
  "language_info": {
   "codemirror_mode": {
    "name": "ipython",
    "version": 3
   },
   "file_extension": ".py",
   "mimetype": "text/x-python",
   "name": "python",
   "nbconvert_exporter": "python",
   "pygments_lexer": "ipython3",
   "version": "3.9.13"
  },
  "orig_nbformat": 4,
  "vscode": {
   "interpreter": {
    "hash": "88279d2366fe020547cde40dd65aa0e3aa662a6ec1f3ca12d88834876c85e1a6"
   }
  }
 },
 "nbformat": 4,
 "nbformat_minor": 2
}
